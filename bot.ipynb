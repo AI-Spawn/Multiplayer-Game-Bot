{
  "nbformat": 4,
  "nbformat_minor": 0,
  "metadata": {
    "colab": {
      "name": "bot.ipynb",
      "provenance": [],
      "collapsed_sections": []
    },
    "kernelspec": {
      "name": "python3",
      "display_name": "Python 3"
    }
  },
  "cells": [
    {
      "cell_type": "code",
      "metadata": {
        "colab": {
          "base_uri": "https://localhost:8080/"
        },
        "id": "MglC17sVLlsU",
        "outputId": "5f323b00-1864-4b4e-87d5-024cc1e5741d"
      },
      "source": [
        "!pip install websocket_client"
      ],
      "execution_count": null,
      "outputs": [
        {
          "output_type": "stream",
          "text": [
            "Requirement already satisfied: websocket_client in c:\\users\\aispa\\anaconda3\\lib\\site-packages (0.57.0)\n",
            "Requirement already satisfied: six in c:\\users\\aispa\\anaconda3\\lib\\site-packages (from websocket_client) (1.15.0)\n"
          ],
          "name": "stdout"
        }
      ]
    },
    {
      "cell_type": "code",
      "metadata": {
        "id": "-hWgFFna-AOq"
      },
      "source": [
        "from websocket import WebSocketApp\r\n",
        "import time\r\n",
        "import random\r\n",
        "import json\r\n",
        "import _thread as thread\r\n",
        "\r\n"
      ],
      "execution_count": null,
      "outputs": []
    },
    {
      "cell_type": "code",
      "metadata": {
        "id": "QLslf8SM7AWL"
      },
      "source": [
        "# url = 'wss://aispawn.herokuapp.com/ws'\r\n",
        "url = \"ws://localhost:3000/ws\""
      ],
      "execution_count": null,
      "outputs": []
    },
    {
      "cell_type": "code",
      "metadata": {
        "id": "JTCW3hOUaWX5"
      },
      "source": [
        "def line_intersection(line1, line2):\r\n",
        "    xdiff = (line1[0][0] - line1[1][0], line2[0][0] - line2[1][0])\r\n",
        "    ydiff = (line1[0][1] - line1[1][1], line2[0][1] - line2[1][1])\r\n",
        "\r\n",
        "    def det(a, b):\r\n",
        "        return a[0] * b[1] - a[1] * b[0]\r\n",
        "\r\n",
        "    div = det(xdiff, ydiff)\r\n",
        "    if div == 0:\r\n",
        "       raise Exception('lines do not intersect')\r\n",
        "\r\n",
        "    d = (det(*line1), det(*line2))\r\n",
        "    x = det(d, xdiff) / div\r\n",
        "    y = det(d, ydiff) / div\r\n",
        "    return x, y\r\n"
      ],
      "execution_count": null,
      "outputs": []
    },
    {
      "cell_type": "code",
      "metadata": {
        "id": "2sJJVMjpC1Ex"
      },
      "source": [
        "\r\n",
        "def get_interssection(d):\r\n",
        "  bullet_speed = 15\r\n",
        "  player_speed = 5\r\n",
        "\r\n",
        "  if d['vel_x'] == 0:\r\n",
        "    player_slope = 9999\r\n",
        "    bot_slope = 0\r\n",
        "  else:\r\n",
        "    player_slope = d['vel_y']/d['vel_x']\r\n",
        "    if d['vel_y']==0:\r\n",
        "      bot_slope=9999\r\n",
        "    else:\r\n",
        "      bot_slope = -1/player_slope\r\n",
        "\r\n",
        "  A = (d['px'], d['py'])\r\n",
        "  B=(A[0] + 1, A[1] + player_slope)\r\n",
        "  C = (d['bx'], d['by'])\r\n",
        "  D = (C[0]+1, C[1]+bot_slope)\r\n",
        "  poi = line_intersection((A, B),(C,D))\r\n"
      ],
      "execution_count": null,
      "outputs": []
    },
    {
      "cell_type": "code",
      "metadata": {
        "id": "pFiQOi1m7UW3"
      },
      "source": [
        "def ws_handler(ws, message):\r\n",
        "\r\n",
        "  msg=json.loads(message)\r\n",
        "  if msg['type']=='sync_player':\r\n",
        "\r\n",
        "      this_player = msg['you_are']\r\n",
        "      other = 1-this_player\r\n",
        "      players = msg['info'][0]\r\n",
        "      px = players[other]['x']\r\n",
        "      py = players[other]['y']\r\n",
        "\r\n",
        "      bx=players[this_player]['x']\r\n",
        "      by=players[this_player]['y']\r\n",
        "      ws.send(f'fire{bx-px}, {by-py}')\r\n",
        "  "
      ],
      "execution_count": null,
      "outputs": []
    },
    {
      "cell_type": "code",
      "metadata": {
        "id": "Oytg69utoWQA"
      },
      "source": [
        "\r\n",
        "def on_error(ws, error):\r\n",
        "    print(error)\r\n"
      ],
      "execution_count": null,
      "outputs": []
    },
    {
      "cell_type": "code",
      "metadata": {
        "id": "9OBASNlllJUS"
      },
      "source": [
        "def on_open(ws):\r\n",
        "    def run(*args):\r\n",
        "      while True:\r\n",
        "        time.sleep(0.4)\r\n",
        "        ws.send('sync')\r\n",
        "    ws.send('nameBotBoio')\r\n",
        "    thread.start_new_thread(run, ())\r\n",
        "\r\n"
      ],
      "execution_count": null,
      "outputs": []
    },
    {
      "cell_type": "code",
      "metadata": {
        "id": "SgztlqZrGdpp",
        "colab": {
          "base_uri": "https://localhost:8080/"
        },
        "outputId": "326d58e0-80eb-4704-f86d-7d1280181c51"
      },
      "source": [
        "ws = WebSocketApp(url, on_message=ws_handler, on_error = on_error)\r\n",
        "ws.on_open = on_open\r\n",
        "ws.run_forever()"
      ],
      "execution_count": null,
      "outputs": [
        {
          "output_type": "stream",
          "text": [
            "\n"
          ],
          "name": "stdout"
        },
        {
          "output_type": "execute_result",
          "data": {
            "text/plain": [
              "False"
            ]
          },
          "metadata": {
            "tags": []
          },
          "execution_count": 167
        }
      ]
    },
    {
      "cell_type": "code",
      "metadata": {
        "id": "Y1ddN4NZ651J"
      },
      "source": [
        "ws.close()"
      ],
      "execution_count": null,
      "outputs": []
    }
  ]
}